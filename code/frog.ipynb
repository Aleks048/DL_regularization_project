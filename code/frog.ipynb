{
 "cells": [
  {
   "cell_type": "code",
   "execution_count": 1,
   "metadata": {},
   "outputs": [],
   "source": [
    "import cairo\n",
    "import io\n",
    "import numpy as np\n",
    "from IPython.display import display, Image\n",
    "\n",
    "from cairo_jupyter import *\n",
    "from shapes import *\n",
    "\n",
    "class frog:\n",
    "    def __init__(self):\n",
    "        self.rotation = np.random.uniform(-20, 20, 5)\n",
    "        self.eyes = np.random.uniform(-0.05, 0.05, 5)\n",
    "        self.scale = np.random.uniform(0.5, 1.2, 5)\n",
    "        self.leg1 = np.random.uniform(-10, 100, 5)\n",
    "        self.leg2 = np.random.uniform(-10, 100, 5)\n",
    "    def frog_shape(self, eyes, rleg, lleg):\n",
    "        frog = ShapeGroup({\n",
    "            'root': Transform(translation = (0.5, 0.2), children = ShapeGroup({\n",
    "            'body': Circle(0, 0.25, 0.2, fill = (0.8, 0, 0)),\n",
    "            'left_eye':Circle(-0.12, 0.1, 0.05+eyes, fill = (0, 0, 0.9)),\n",
    "            'right_eye':Circle(0.12, 0.1, 0.05+eyes, fill = (0, 0, 0.9)),\n",
    "            'right_leg1': Transform(translation = (0.22, 0.35), rotation = 45, children = ShapeGroup({\n",
    "                'leg': Rectangle(-0.04, 0, 0.04, 0.13, fill = (0.8, 0, 0))\n",
    "                })),\n",
    "            'left_leg1': Transform(translation = (-0.12, 0.45), rotation = 135, children = ShapeGroup({\n",
    "                'leg': Rectangle(-0.04, 0, 0.04, 0.13, fill = (0.8, 0, 0))\n",
    "                })),\n",
    "            'right_leg2': Transform(translation = (0.30, 0.40), rotation = 135-rleg, children = ShapeGroup({\n",
    "                'leg': Rectangle(-0.04, 0, 0.05, 0.13, fill = (0.8, 0.8, 0))\n",
    "                })),\n",
    "            'left_leg2': Transform(translation = (-0.19, 0.35), rotation = 45+lleg, children = ShapeGroup({\n",
    "                'leg': Rectangle(-0.04, 0, 0.05, 0.13, fill = (0.8, 0.8, 0))\n",
    "                })),\n",
    "            }))\n",
    "        })\n",
    "        return frog\n",
    "    \n",
    "    def draw_frog(self, Rata = 0, sc = 1, eyes = 0, leg1 = 0, leg2 = 0):\n",
    "        scale = 512\n",
    "        inv_scale = 1. / scale\n",
    "        size = (scale, scale)\n",
    "        surface = cairo.ImageSurface(cairo.FORMAT_RGB24, *size)\n",
    "        ctx = cairo.Context(surface)\n",
    "        ctx.scale(*size)\n",
    "        f = self.frog_shape(eyes, leg1, leg2)\n",
    "        t=Transform(children = f, rotation = Rata, scale = [sc,1])\n",
    "        t.draw(ctx)\n",
    "#         display(surface_to_image(surface))\n",
    "        return surface\n",
    "\n",
    "    def generate_frog(self):\n",
    "        i = 0\n",
    "        for a in self.eyes:\n",
    "            for ll in self.leg1:\n",
    "                for rl in self.leg2:\n",
    "                    for r in self.rotation:\n",
    "                        for s in self.scale: \n",
    "                            surface = self.draw_frog(r, s, a, ll, rl)\n",
    "                            surface.write_to_png('frog/frog{}.png'.format(i))\n",
    "                            i = i+1\n"
   ]
  },
  {
   "cell_type": "code",
   "execution_count": 2,
   "metadata": {},
   "outputs": [],
   "source": [
    "f = frog()\n",
    "f.generate_frog()\n"
   ]
  },
  {
   "cell_type": "code",
   "execution_count": null,
   "metadata": {},
   "outputs": [],
   "source": []
  },
  {
   "cell_type": "code",
   "execution_count": null,
   "metadata": {},
   "outputs": [],
   "source": []
  },
  {
   "cell_type": "code",
   "execution_count": null,
   "metadata": {},
   "outputs": [],
   "source": []
  },
  {
   "cell_type": "code",
   "execution_count": null,
   "metadata": {},
   "outputs": [],
   "source": []
  },
  {
   "cell_type": "code",
   "execution_count": null,
   "metadata": {},
   "outputs": [],
   "source": []
  },
  {
   "cell_type": "code",
   "execution_count": null,
   "metadata": {},
   "outputs": [],
   "source": []
  },
  {
   "cell_type": "code",
   "execution_count": null,
   "metadata": {},
   "outputs": [],
   "source": []
  },
  {
   "cell_type": "code",
   "execution_count": null,
   "metadata": {},
   "outputs": [],
   "source": []
  },
  {
   "cell_type": "code",
   "execution_count": null,
   "metadata": {},
   "outputs": [],
   "source": []
  },
  {
   "cell_type": "code",
   "execution_count": null,
   "metadata": {},
   "outputs": [],
   "source": []
  },
  {
   "cell_type": "code",
   "execution_count": null,
   "metadata": {},
   "outputs": [],
   "source": []
  }
 ],
 "metadata": {
  "kernelspec": {
   "display_name": "Python 3",
   "language": "python",
   "name": "python3"
  },
  "language_info": {
   "codemirror_mode": {
    "name": "ipython",
    "version": 3
   },
   "file_extension": ".py",
   "mimetype": "text/x-python",
   "name": "python",
   "nbconvert_exporter": "python",
   "pygments_lexer": "ipython3",
   "version": "3.6.7"
  }
 },
 "nbformat": 4,
 "nbformat_minor": 2
}
