{
 "cells": [
  {
   "cell_type": "code",
   "execution_count": 1,
   "metadata": {},
   "outputs": [
    {
     "ename": "ModuleNotFoundError",
     "evalue": "No module named 'cairo'",
     "output_type": "error",
     "traceback": [
      "\u001b[0;31m---------------------------------------------------------------------------\u001b[0m",
      "\u001b[0;31mModuleNotFoundError\u001b[0m                       Traceback (most recent call last)",
      "\u001b[0;32m<ipython-input-1-aca192bb31e3>\u001b[0m in \u001b[0;36m<module>\u001b[0;34m()\u001b[0m\n\u001b[0;32m----> 1\u001b[0;31m \u001b[0;32mimport\u001b[0m \u001b[0mcairo\u001b[0m\u001b[0;34m\u001b[0m\u001b[0m\n\u001b[0m\u001b[1;32m      2\u001b[0m \u001b[0;32mimport\u001b[0m \u001b[0mos\u001b[0m\u001b[0;34m\u001b[0m\u001b[0m\n\u001b[1;32m      3\u001b[0m \u001b[0;32mimport\u001b[0m \u001b[0mio\u001b[0m\u001b[0;34m\u001b[0m\u001b[0m\n\u001b[1;32m      4\u001b[0m \u001b[0;32mimport\u001b[0m \u001b[0mnumpy\u001b[0m \u001b[0;32mas\u001b[0m \u001b[0mnp\u001b[0m\u001b[0;34m\u001b[0m\u001b[0m\n\u001b[1;32m      5\u001b[0m \u001b[0;32mfrom\u001b[0m \u001b[0mIPython\u001b[0m\u001b[0;34m.\u001b[0m\u001b[0mdisplay\u001b[0m \u001b[0;32mimport\u001b[0m \u001b[0mdisplay\u001b[0m\u001b[0;34m,\u001b[0m \u001b[0mImage\u001b[0m\u001b[0;34m\u001b[0m\u001b[0m\n",
      "\u001b[0;31mModuleNotFoundError\u001b[0m: No module named 'cairo'"
     ]
    }
   ],
   "source": [
    "import cairo\n",
    "import os\n",
    "import io\n",
    "import numpy as np\n",
    "from IPython.display import display, Image"
   ]
  },
  {
   "cell_type": "code",
   "execution_count": null,
   "metadata": {},
   "outputs": [],
   "source": [
    "from cairo_jupyter import *\n",
    "from shapes import *"
   ]
  },
  {
   "cell_type": "code",
   "execution_count": null,
   "metadata": {},
   "outputs": [],
   "source": [
    "def person_shape(arm, left_leg, right_leg, **kwargs):\n",
    "\n",
    "    person = ShapeGroup({\n",
    "        'root': Transform(translation = (0.5, 0.2), children = ShapeGroup({\n",
    "        'head': Circle(0, 0, 0.1, fill = (0.8, 0, 0)),\n",
    "        'body': Rectangle(-0.1, 0.1, 0.2, 0.38, fill = (0, 0, 0.9)),\n",
    "        #'body': Rectangle(-0.05, 0.1, 0.1, 0.4, fill = (0, 0, 0.9)),\n",
    "        'left_arm': Transform(translation = (-0.05, 0.15), rotation = 135-arm, children = ShapeGroup({\n",
    "            'arm': Rectangle(-0.025, 0.04, 0.05, 0.3, fill = (0, 0.8, 0))\n",
    "        })),\n",
    "        'right_arm': Transform(translation = (0.05, 0.15), rotation = -135+arm, children = ShapeGroup({\n",
    "            'arm': Rectangle(-0.025, 0.04, 0.05, 0.3, fill = (0, 0.8, 0))\n",
    "        })),\n",
    "        'left_leg': Transform(translation = (-0.06, 0.50), rotation = 45-left_leg, children = ShapeGroup({\n",
    "            'leg': Rectangle(-0.05, -0.045, 0.07, 0.33, fill = (0.8, 0.8, 0))\n",
    "        })),\n",
    "        'right_left': Transform(translation = (0.06, 0.48), rotation = -45+right_leg, children = ShapeGroup({\n",
    "            'arm': Rectangle(-0.025, -0.025, 0.07, 0.33, fill = (0.8, 0.8, 0))\n",
    "        })),\n",
    "    }))\n",
    "    })\n",
    "    return person\n",
    "\n"
   ]
  },
  {
   "cell_type": "code",
   "execution_count": null,
   "metadata": {},
   "outputs": [],
   "source": [
    "mu, sigma = 0, 1 # mean and standard deviation\n",
    "#Rotation = np.random.normal(mu, sigma, 20)\n",
    "#Arm = np.random.normal(mu, sigma, 100)\n",
    "#Scale = np.random.normal(mu, sigma, 100)\n",
    "#Lleg = np.random.normal(mu, sigma, 100)\n",
    "#Rleg = np.random.normal(mu, sigma, 100)\n",
    "Rotation = np.random.uniform(-10, 10, 100)\n",
    "Arm = np.random.uniform(-20, 100, 100)\n",
    "Scale = np.random.uniform(0.5, 1, 100)\n",
    "Lleg = np.random.uniform(-20, 100, 50)\n",
    "Rleg = np.random.uniform(-20, 100, 50)\n",
    "\n",
    "def draw_person(Rata = 0, sc = 0, Arm = 0, Lleg = 0, Rleg = 0):\n",
    "    scale = 512\n",
    "    inv_scale = 1. / scale\n",
    "    size = (scale, scale)\n",
    "    surface = cairo.ImageSurface(cairo.FORMAT_RGB24, *size)\n",
    "    ctx = cairo.Context(surface)\n",
    "    ctx.scale(*size)\n",
    "    p = person_shape(Arm, Lleg, Rleg)\n",
    "    t=Transform(children = p, rotation = Rata, scale = [sc,1])\n",
    "    t.draw(ctx)\n",
    "    #display(surface_to_image(surface))\n",
    "    return surface\n",
    "os.makedirs('person')\n",
    "i = 0\n",
    "for r in Rotation:\n",
    "    for s in Scale: \n",
    "        for a in Arm:\n",
    "            for ll in Lleg:\n",
    "                for rl in Rleg:\n",
    "                    surface = draw_person(r, s, a, ll, rl)\n",
    "                    surface.write_to_png('person/person_{}.png'.format(i))\n",
    "                    i = i+1"
   ]
  },
  {
   "cell_type": "code",
   "execution_count": null,
   "metadata": {},
   "outputs": [],
   "source": []
  },
  {
   "cell_type": "code",
   "execution_count": null,
   "metadata": {},
   "outputs": [],
   "source": []
  },
  {
   "cell_type": "code",
   "execution_count": null,
   "metadata": {},
   "outputs": [],
   "source": []
  },
  {
   "cell_type": "code",
   "execution_count": null,
   "metadata": {},
   "outputs": [],
   "source": []
  },
  {
   "cell_type": "code",
   "execution_count": null,
   "metadata": {},
   "outputs": [],
   "source": []
  }
 ],
 "metadata": {
  "kernelspec": {
   "display_name": "Python 3",
   "language": "python",
   "name": "python3"
  },
  "language_info": {
   "codemirror_mode": {
    "name": "ipython",
    "version": 3
   },
   "file_extension": ".py",
   "mimetype": "text/x-python",
   "name": "python",
   "nbconvert_exporter": "python",
   "pygments_lexer": "ipython3",
   "version": "3.6.5"
  }
 },
 "nbformat": 4,
 "nbformat_minor": 2
}
