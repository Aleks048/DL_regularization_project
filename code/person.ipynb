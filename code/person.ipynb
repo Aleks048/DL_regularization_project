{
 "cells": [
  {
   "cell_type": "code",
   "execution_count": 1,
   "metadata": {},
   "outputs": [],
   "source": [
    "import cairo\n",
    "import os\n",
    "import io\n",
    "import numpy as np\n",
    "from IPython.display import display, Image"
   ]
  },
  {
   "cell_type": "code",
   "execution_count": 2,
   "metadata": {},
   "outputs": [],
   "source": [
    "from cairo_jupyter import *\n",
    "from shapes import *"
   ]
  },
  {
   "cell_type": "code",
   "execution_count": 3,
   "metadata": {},
   "outputs": [],
   "source": [
    "class person:\n",
    "    def __init__(self):\n",
    "        #Rotation = np.random.normal(mu, sigma, 20)\n",
    "        #Arm = np.random.normal(mu, sigma, 100)\n",
    "        #Scale = np.random.normal(mu, sigma, 100)\n",
    "        #Lleg = np.random.normal(mu, sigma, 100)\n",
    "        #Rleg = np.random.normal(mu, sigma, 100)\n",
    "        self.Rotation = np.random.uniform(-20, 20, 5)\n",
    "        self.Arm = np.random.uniform(-50, 50, 5)\n",
    "        self.Scale = np.random.uniform(0.5, 1, 5)\n",
    "        self.Lleg = np.random.uniform(-20, 100, 5)\n",
    "        self.Rleg = np.random.uniform(-20, 100, 5)\n",
    "    def person_shape(self,arm, left_leg, right_leg, **kwargs):\n",
    "\n",
    "        person = ShapeGroup({\n",
    "            'root': Transform(translation = (0.5, 0.2), children = ShapeGroup({\n",
    "            'head': Circle(0, 0, 0.1, fill = (0.8, 0, 0)),\n",
    "            'body': Rectangle(-0.1, 0.1, 0.2, 0.38, fill = (0, 0, 0.9)),\n",
    "            #'body': Rectangle(-0.05, 0.1, 0.1, 0.4, fill = (0, 0, 0.9)),\n",
    "            'left_arm': Transform(translation = (-0.05, 0.15), rotation = 135-arm, children = ShapeGroup({\n",
    "                'arm': Rectangle(-0.025, 0.04, 0.05, 0.3, fill = (0, 0.8, 0))\n",
    "            })),\n",
    "            'right_arm': Transform(translation = (0.05, 0.15), rotation = -135+arm, children = ShapeGroup({\n",
    "                'arm': Rectangle(-0.025, 0.04, 0.05, 0.3, fill = (0, 0.8, 0))\n",
    "            })),\n",
    "            'left_leg': Transform(translation = (-0.06, 0.50), rotation = 45-left_leg, children = ShapeGroup({\n",
    "                'leg': Rectangle(-0.05, -0.045, 0.07, 0.33, fill = (0.8, 0.8, 0))\n",
    "            })),\n",
    "            'right_left': Transform(translation = (0.06, 0.48), rotation = -45+right_leg, children = ShapeGroup({\n",
    "                'arm': Rectangle(-0.025, -0.025, 0.07, 0.33, fill = (0.8, 0.8, 0))\n",
    "            })),\n",
    "        }))\n",
    "        })\n",
    "        return person\n",
    "    \n",
    "\n",
    "    def draw_person(self,Rata = 0, sc = 1, Arm = 0, Lleg = 0, Rleg = 0):\n",
    "        scale = 512\n",
    "        inv_scale = 1. / scale\n",
    "        size = (scale, scale)\n",
    "        surface = cairo.ImageSurface(cairo.FORMAT_RGB24, *size)\n",
    "        ctx = cairo.Context(surface)\n",
    "        ctx.scale(*size)\n",
    "        p = self.person_shape(Arm, Lleg, Rleg)\n",
    "        t=Transform(children = p, rotation = Rata, scale = [sc,sc])\n",
    "        t.draw(ctx)\n",
    "#         display(surface_to_image(surface))\n",
    "        return surface\n",
    "    def generate_person(self):\n",
    "        i = 0            \n",
    "       \n",
    "        for ll in self.Lleg:\n",
    "            for a in self.Arm:\n",
    "                for rl in self.Rleg:\n",
    "                    for r in self.Rotation:\n",
    "                        for s in self.Scale: \n",
    "                            surface = self.draw_person(r, s, a, ll, rl)\n",
    "                            surface.write_to_png('person/person_{}.png'.format(i))\n",
    "                            i = i+1"
   ]
  },
  {
   "cell_type": "code",
   "execution_count": 4,
   "metadata": {},
   "outputs": [],
   "source": [
    "p = person()\n",
    "p.generate_person()"
   ]
  },
  {
   "cell_type": "code",
   "execution_count": null,
   "metadata": {},
   "outputs": [],
   "source": []
  },
  {
   "cell_type": "code",
   "execution_count": null,
   "metadata": {},
   "outputs": [],
   "source": []
  },
  {
   "cell_type": "code",
   "execution_count": null,
   "metadata": {},
   "outputs": [],
   "source": []
  },
  {
   "cell_type": "code",
   "execution_count": null,
   "metadata": {},
   "outputs": [],
   "source": []
  },
  {
   "cell_type": "code",
   "execution_count": null,
   "metadata": {},
   "outputs": [],
   "source": []
  },
  {
   "cell_type": "code",
   "execution_count": null,
   "metadata": {},
   "outputs": [],
   "source": []
  }
 ],
 "metadata": {
  "kernelspec": {
   "display_name": "Python 3",
   "language": "python",
   "name": "python3"
  },
  "language_info": {
   "codemirror_mode": {
    "name": "ipython",
    "version": 3
   },
   "file_extension": ".py",
   "mimetype": "text/x-python",
   "name": "python",
   "nbconvert_exporter": "python",
   "pygments_lexer": "ipython3",
   "version": "3.6.7"
  }
 },
 "nbformat": 4,
 "nbformat_minor": 2
}
