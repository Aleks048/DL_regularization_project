{
 "cells": [
  {
   "cell_type": "markdown",
   "metadata": {},
   "source": [
    "### Generate Image Data"
   ]
  },
  {
   "cell_type": "markdown",
   "metadata": {},
   "source": [
    "##### 1. Sample over P to choose a class"
   ]
  },
  {
   "cell_type": "markdown",
   "metadata": {},
   "source": [
    "##### 2. Sample over set of class prototypes to choose a prototype (for example: a person class can have man, woman, child, prototypes)"
   ]
  },
  {
   "cell_type": "markdown",
   "metadata": {},
   "source": [
    "##### 3. Sample over parameters of prototype (each prototype has a generator function, with parameters)"
   ]
  },
  {
   "cell_type": "markdown",
   "metadata": {},
   "source": [
    "##### 4. Generate instance with sampled parameters"
   ]
  },
  {
   "cell_type": "code",
   "execution_count": 2,
   "metadata": {},
   "outputs": [],
   "source": [
    "from PIL import Image, ImageDraw\n",
    "import numpy as np\n",
    "from matplotlib.pyplot import imshow\n",
    "%matplotlib inline"
   ]
  },
  {
   "cell_type": "code",
   "execution_count": 174,
   "metadata": {},
   "outputs": [
    {
     "data": {
      "text/plain": [
       "<matplotlib.image.AxesImage at 0x254ff15f2b0>"
      ]
     },
     "execution_count": 174,
     "metadata": {},
     "output_type": "execute_result"
    },
    {
     "data": {
      "image/png": "[encoded data removed]",
      "text/plain": [
       "<Figure size 432x288 with 1 Axes>"
      ]
     },
     "metadata": {
      "needs_background": "light"
     },
     "output_type": "display_data"
    }
   ],
   "source": [
    "mode = 'RGB'\n",
    "size = (100, 100)\n",
    "color = 'white'\n",
    "im = Image.new(mode, size, color)\n",
    "\n",
    "draw = ImageDraw.Draw(im)\n",
    "draw.rectangle([0,0,20,20], 'red', 'black')\n",
    "imshow(np.asarray(im))"
   ]
  },
  {
   "cell_type": "code",
   "execution_count": 175,
   "metadata": {},
   "outputs": [],
   "source": [
    "def draw(draw_fn, *args):\n",
    "    mode = 'RGB'\n",
    "    size = (512, 512)\n",
    "    color = 'white'\n",
    "    im = Image.new(mode, size, color)\n",
    "\n",
    "    draw = ImageDraw.Draw(im)\n",
    "    draw_fn(draw, im.size, *args)\n",
    "    imshow(np.asarray(im))"
   ]
  },
  {
   "cell_type": "code",
   "execution_count": 71,
   "metadata": {},
   "outputs": [],
   "source": [
    "def rotation(degrees):\n",
    "    radians = np.radians(degrees)\n",
    "    c = np.cos(radians)\n",
    "    s = np.sin(radians)\n",
    "    return np.array([[c,-s,0], [s,c,0], [0,0,1]])"
   ]
  },
  {
   "cell_type": "code",
   "execution_count": 147,
   "metadata": {},
   "outputs": [],
   "source": [
    "def translation(xy):\n",
    "    return np.array([[1,0,0],[0,1,0],[xy[0],xy[1],1]])"
   ]
  },
  {
   "cell_type": "code",
   "execution_count": 163,
   "metadata": {},
   "outputs": [],
   "source": [
    "import numbers"
   ]
  },
  {
   "cell_type": "code",
   "execution_count": 166,
   "metadata": {},
   "outputs": [],
   "source": [
    "def scale(s):\n",
    "    \"\"\"\n",
    "    s = (sx, sy) | s\n",
    "    \"\"\"\n",
    "    if isinstance(s, numbers.Number):\n",
    "        sx = sy = s\n",
    "    elif type(s) == tuple:\n",
    "        sx, sy = s\n",
    "    else:\n",
    "        raise Exception(\"s should be a tuple or a number\")\n",
    "    return np.array([[sx,0,0],[0,sy,0],[0,0,1]])"
   ]
  },
  {
   "cell_type": "code",
   "execution_count": 207,
   "metadata": {},
   "outputs": [],
   "source": [
    "def augment(xy):\n",
    "    \"\"\"\n",
    "    xy: (?, 2) -> (?, 3)\n",
    "    append a 1 to each point\n",
    "    \"\"\"\n",
    "    shape = xy.shape\n",
    "    size = shape[0] if len(shape) > 1 else 1\n",
    "    return np.append(xy.T, np.ones(size)).reshape(3,size).T"
   ]
  },
  {
   "cell_type": "code",
   "execution_count": 227,
   "metadata": {},
   "outputs": [
    {
     "data": {
      "text/plain": [
       "[(0, 1), (2, 3), (4, 5), (6, 7), (8, 9)]"
      ]
     },
     "execution_count": 227,
     "metadata": {},
     "output_type": "execute_result"
    }
   ],
   "source": [
    "xy = np.arange(10)\n",
    "list(map(tuple, xy.reshape(-1, 2)))"
   ]
  },
  {
   "cell_type": "code",
   "execution_count": 248,
   "metadata": {},
   "outputs": [],
   "source": [
    "def draw_circle(draw, x, y, dx, dy, transform = None, fill = None, outline = None):\n",
    "    xy = np.array([[x, y], [x + dx, y + dy]])\n",
    "    if transform is not None:\n",
    "        xy = np.matmul(augment(xy), transform)[:,:-1]\n",
    "    xy = list(map(tuple, xy.reshape(-1, 2)))\n",
    "    draw.ellipse(xy, fill, outline)"
   ]
  },
  {
   "cell_type": "code",
   "execution_count": 278,
   "metadata": {},
   "outputs": [],
   "source": [
    "def draw_polygon(draw, xy, transform = None, fill = None, outline = None):\n",
    "    \"\"\"\n",
    "    xy is a 2D numpy array of shape (?, 2)\n",
    "    \"\"\"\n",
    "    if transform is not None:\n",
    "        xy = np.matmul(augment(xy), transform)[:,:-1]\n",
    "    xy = list(map(tuple, xy.reshape(-1, 2)))\n",
    "    draw.polygon(xy, fill, outline)"
   ]
  },
  {
   "cell_type": "code",
   "execution_count": 281,
   "metadata": {},
   "outputs": [],
   "source": [
    "def draw_rectangle(draw, x, y, dx, dy, transform = None, fill = None, outline = None):\n",
    "    x1 = x + dx\n",
    "    y1 = y + dy\n",
    "    xy = np.array([x, y, x1, y, x1, y1, x, y1]).reshape(-1, 2)\n",
    "    draw_polygon(draw, xy, transform, fill, outline)"
   ]
  },
  {
   "cell_type": "code",
   "execution_count": 297,
   "metadata": {},
   "outputs": [
    {
     "data": {
      "image/png": "[encoded data removed]",
      "text/plain": [
       "<Figure size 432x288 with 1 Axes>"
      ]
     },
     "metadata": {
      "needs_background": "light"
     },
     "output_type": "display_data"
    }
   ],
   "source": [
    "def draw_dog(draw, im_size, origin = np.array([0, 0])):\n",
    "    im_scale = scale(im_size)\n",
    "    origin_translation = translation(origin)\n",
    "    \n",
    "    head_scale = scale(2) * im_scale\n",
    "    head_transform = origin_translation * head_scale\n",
    "    draw_circle(draw, 0.1, 0.1, 0.1, 0.1, head_transform, 'red')\n",
    "    \n",
    "    body_scale = im_scale\n",
    "    body_transform = origin_translation * body_scale\n",
    "    draw_rectangle(draw, 0.3, 0.4, 0.5, 0.15, body_transform, 'blue')\n",
    "    \n",
    "    front_leg_scale = im_scale\n",
    "    front_leg_rotation = rotation(45)\n",
    "    front_leg_transform = origin_translation * front_leg_rotation * front_leg_scale\n",
    "    draw_rectangle(draw, 0.3, 0.5, 0.35, 0.1, front_leg_transform, 'yellow')\n",
    "    \n",
    "#     body_origin = head + np.array([0, 0]) * scale\n",
    "#     body_size = np.array([4., 1.]) * scale\n",
    "#     body = body_origin + body_size\n",
    "#     draw.rectangle([tuple(body_origin), tuple(body)], 'blue', None)\n",
    "draw(draw_dog)"
   ]
  },
  {
   "cell_type": "code",
   "execution_count": 169,
   "metadata": {},
   "outputs": [
    {
     "data": {
      "image/png": "[encoded data removed]",
      "text/plain": [
       "<Figure size 432x288 with 1 Axes>"
      ]
     },
     "metadata": {
      "needs_background": "light"
     },
     "output_type": "display_data"
    }
   ],
   "source": [
    "def draw_person(draw, x = 0, y = 0):\n",
    "    origin = np.array([x, y])\n",
    "    head_origin = origin + np.array([40, 10])\n",
    "    head_size = np.array([20, 20])\n",
    "    head = head_origin + head_size\n",
    "    draw.ellipse([tuple(head_origin), tuple(head)], 'red', None)\n",
    "    \n",
    "    body_origin = head + np.array([-15, 5])\n",
    "    body_size = np.array([10, 40])\n",
    "    body = body_origin + body_size\n",
    "    draw.rectangle([tuple(body_origin), tuple(body)], 'blue', None)\n",
    "    \n",
    "draw(draw_person)"
   ]
  },
  {
   "cell_type": "code",
   "execution_count": null,
   "metadata": {},
   "outputs": [],
   "source": []
  }
 ],
 "metadata": {
  "kernelspec": {
   "display_name": "Python 3",
   "language": "python",
   "name": "python3"
  },
  "language_info": {
   "codemirror_mode": {
    "name": "ipython",
    "version": 3
   },
   "file_extension": ".py",
   "mimetype": "text/x-python",
   "name": "python",
   "nbconvert_exporter": "python",
   "pygments_lexer": "ipython3",
   "version": "3.6.6"
  }
 },
 "nbformat": 4,
 "nbformat_minor": 2
}
