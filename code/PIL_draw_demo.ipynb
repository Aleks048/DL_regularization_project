{
 "cells": [
  {
   "cell_type": "markdown",
   "metadata": {},
   "source": [
    "### Generate Image Data"
   ]
  },
  {
   "cell_type": "markdown",
   "metadata": {},
   "source": [
    "##### 1. Sample over P to choose a class"
   ]
  },
  {
   "cell_type": "markdown",
   "metadata": {},
   "source": [
    "##### 2. Sample over set of class prototypes to choose a prototype (for example: a person class can have man, woman, child, prototypes)"
   ]
  },
  {
   "cell_type": "markdown",
   "metadata": {},
   "source": [
    "##### 3. Sample over parameters of prototype (each prototype has a generator function, with parameters)"
   ]
  },
  {
   "cell_type": "markdown",
   "metadata": {},
   "source": [
    "##### 4. Generate instance with sampled parameters"
   ]
  },
  {
   "cell_type": "code",
   "execution_count": 7,
   "metadata": {},
   "outputs": [],
   "source": [
    "from PIL import Image, ImageDraw\n",
    "import numpy as np\n",
    "from matplotlib.pyplot import imshow\n",
    "%matplotlib inline"
   ]
  },
  {
   "cell_type": "code",
   "execution_count": 16,
   "metadata": {},
   "outputs": [
    {
     "data": {
      "text/plain": [
       "<matplotlib.image.AxesImage at 0x1ad4c93aa58>"
      ]
     },
     "execution_count": 16,
     "metadata": {},
     "output_type": "execute_result"
    },
    {
     "data": {
      "image/png": "[encoded data removed]",
      "text/plain": [
       "<Figure size 432x288 with 1 Axes>"
      ]
     },
     "metadata": {
      "needs_background": "light"
     },
     "output_type": "display_data"
    }
   ],
   "source": [
    "mode = 'RGB'\n",
    "size = (100, 100)\n",
    "color = 'white'\n",
    "im = Image.new(mode, size, color)\n",
    "\n",
    "draw = ImageDraw.Draw(im)\n",
    "draw.rectangle([0,0,20,20], 'red', 'black')\n",
    "imshow(np.asarray(im))"
   ]
  },
  {
   "cell_type": "code",
   "execution_count": 39,
   "metadata": {},
   "outputs": [
    {
     "data": {
      "image/png": "[encoded data removed]",
      "text/plain": [
       "<Figure size 432x288 with 1 Axes>"
      ]
     },
     "metadata": {
      "needs_background": "light"
     },
     "output_type": "display_data"
    }
   ],
   "source": [
    "def draw_dog(draw, x = 0, y = 0):\n",
    "    origin = np.array([x, y])\n",
    "    head_origin = origin + np.array([10, 20])\n",
    "    head_size = np.array([20, 20])\n",
    "    head = head_origin + head_size\n",
    "    draw.ellipse([tuple(head_origin), tuple(head)], 'red', None)\n",
    "    \n",
    "    body_origin = head + np.array([0, 0])\n",
    "    body_size = np.array([40, 10])\n",
    "    body = body_origin + body_size\n",
    "    draw.rectangle([tuple(body_origin), tuple(body)], 'blue', None)\n",
    "    \n",
    "def draw_person(draw, x = 0, y = 0):\n",
    "    origin = np.array([x, y])\n",
    "    head_origin = origin + np.array([40, 10])\n",
    "    head_size = np.array([20, 20])\n",
    "    head = head_origin + head_size\n",
    "    draw.ellipse([tuple(head_origin), tuple(head)], 'red', None)\n",
    "    \n",
    "    body_origin = head + np.array([-15, 5])\n",
    "    body_size = np.array([10, 40])\n",
    "    body = body_origin + body_size\n",
    "    draw.rectangle([tuple(body_origin), tuple(body)], 'blue', None)\n",
    "    \n",
    "def draw(draw_fn):\n",
    "    mode = 'RGB'\n",
    "    size = (100, 100)\n",
    "    color = 'white'\n",
    "    im = Image.new(mode, size, color)\n",
    "\n",
    "    draw = ImageDraw.Draw(im)\n",
    "    draw_fn(draw)\n",
    "    imshow(np.asarray(im))\n",
    "    \n",
    "draw(draw_person)"
   ]
  },
  {
   "cell_type": "code",
   "execution_count": null,
   "metadata": {},
   "outputs": [],
   "source": []
  }
 ],
 "metadata": {
  "kernelspec": {
   "display_name": "Python 3",
   "language": "python",
   "name": "python3"
  },
  "language_info": {
   "codemirror_mode": {
    "name": "ipython",
    "version": 3
   },
   "file_extension": ".py",
   "mimetype": "text/x-python",
   "name": "python",
   "nbconvert_exporter": "python",
   "pygments_lexer": "ipython3",
   "version": "3.6.6"
  }
 },
 "nbformat": 4,
 "nbformat_minor": 2
}
