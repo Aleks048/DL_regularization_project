{
 "cells": [
  {
   "cell_type": "code",
   "execution_count": 3,
   "metadata": {},
   "outputs": [],
   "source": [
    "import tensorflow as tf\n",
    "import tensorflow.keras as keras\n",
    "import tensorflow.keras.models as KM\n",
    "import tensorflow.keras.layers as KL\n",
    "import tensorflow.keras.backend as K\n",
    "import numpy as np"
   ]
  },
  {
   "cell_type": "code",
   "execution_count": 4,
   "metadata": {},
   "outputs": [],
   "source": [
    "def estimate_generalization_error(model, train, validation):\n",
    "    pass"
   ]
  },
  {
   "cell_type": "code",
   "execution_count": 5,
   "metadata": {},
   "outputs": [],
   "source": [
    "def estimate_G(model, train, validation):\n",
    "    pass"
   ]
  },
  {
   "cell_type": "code",
   "execution_count": 6,
   "metadata": {},
   "outputs": [],
   "source": [
    "def estimate_v(model, train, validation):\n",
    "    pass"
   ]
  },
  {
   "cell_type": "code",
   "execution_count": 7,
   "metadata": {},
   "outputs": [],
   "source": [
    "def compute_norm_w(model):\n",
    "    pass"
   ]
  },
  {
   "cell_type": "code",
   "execution_count": 127,
   "metadata": {},
   "outputs": [],
   "source": [
    "def demo_model():\n",
    "    input = KL.Input(shape=(512, 512, 1, ))\n",
    "    \n",
    "    x = KL.Lambda(lambda image: tf.image.resize_images(image, (128, 128)))(input)\n",
    "    x = KL.Flatten()(x)\n",
    "    x = KL.Dense(10, activation='relu', use_bias=False)(x)\n",
    "    z = KL.Dense(10, activation='relu', use_bias=False)(x)\n",
    "    \n",
    "    output = KL.Dense(5, activation='softmax', use_bias=False)(z)\n",
    "    \n",
    "    return KM.Model(input, output), KM.Model(input, z)"
   ]
  },
  {
   "cell_type": "code",
   "execution_count": 128,
   "metadata": {},
   "outputs": [],
   "source": [
    "model, z = demo_model()"
   ]
  },
  {
   "cell_type": "code",
   "execution_count": 99,
   "metadata": {},
   "outputs": [
    {
     "name": "stdout",
     "output_type": "stream",
     "text": [
      "_________________________________________________________________\n",
      "Layer (type)                 Output Shape              Param #   \n",
      "=================================================================\n",
      "input_22 (InputLayer)        (None, 512, 512, 1)       0         \n",
      "_________________________________________________________________\n",
      "lambda_1 (Lambda)            (None, 128, 128, 1)       0         \n",
      "_________________________________________________________________\n",
      "flatten_17 (Flatten)         (None, 16384)             0         \n",
      "_________________________________________________________________\n",
      "dense_34 (Dense)             (None, 10)                163840    \n",
      "_________________________________________________________________\n",
      "dense_35 (Dense)             (None, 10)                100       \n",
      "_________________________________________________________________\n",
      "dense_36 (Dense)             (None, 5)                 50        \n",
      "=================================================================\n",
      "Total params: 163,990\n",
      "Trainable params: 163,990\n",
      "Non-trainable params: 0\n",
      "_________________________________________________________________\n"
     ]
    }
   ],
   "source": [
    "model.summary()"
   ]
  },
  {
   "cell_type": "code",
   "execution_count": 103,
   "metadata": {},
   "outputs": [],
   "source": [
    "l=model.layers[3]"
   ]
  },
  {
   "cell_type": "code",
   "execution_count": 106,
   "metadata": {},
   "outputs": [
    {
     "data": {
      "text/plain": [
       "(16384, 10)"
      ]
     },
     "execution_count": 106,
     "metadata": {},
     "output_type": "execute_result"
    }
   ],
   "source": [
    "l.get_weights()[0].shape"
   ]
  },
  {
   "cell_type": "code",
   "execution_count": 108,
   "metadata": {},
   "outputs": [
    {
     "data": {
      "text/plain": [
       "(10, 10)"
      ]
     },
     "execution_count": 108,
     "metadata": {},
     "output_type": "execute_result"
    }
   ],
   "source": [
    "model.layers[4].get_weights()[0].shape"
   ]
  },
  {
   "cell_type": "code",
   "execution_count": 109,
   "metadata": {},
   "outputs": [],
   "source": [
    "W = None\n",
    "for layer in model.layers:\n",
    "    weights = layer.get_weights()\n",
    "    if len(weights) == 0:\n",
    "        continue\n",
    "    w_i = weights[0]\n",
    "    if W is None:\n",
    "        W = w_i\n",
    "    else:\n",
    "        W = np.matmul(W, w_i)"
   ]
  },
  {
   "cell_type": "code",
   "execution_count": 112,
   "metadata": {},
   "outputs": [
    {
     "data": {
      "text/plain": [
       "(16384, 5)"
      ]
     },
     "execution_count": 112,
     "metadata": {},
     "output_type": "execute_result"
    }
   ],
   "source": [
    "W.shape"
   ]
  },
  {
   "cell_type": "code",
   "execution_count": 114,
   "metadata": {},
   "outputs": [
    {
     "data": {
      "text/plain": [
       "1.6165992"
      ]
     },
     "execution_count": 114,
     "metadata": {},
     "output_type": "execute_result"
    }
   ],
   "source": [
    "np.linalg.norm(W[:,0], ord=2)"
   ]
  },
  {
   "cell_type": "code",
   "execution_count": 119,
   "metadata": {},
   "outputs": [],
   "source": [
    "import matplotlib.pyplot as plt\n",
    "%matplotlib inline"
   ]
  },
  {
   "cell_type": "code",
   "execution_count": 163,
   "metadata": {},
   "outputs": [
    {
     "data": {
      "text/plain": [
       "<matplotlib.image.AxesImage at 0x1bcc12be128>"
      ]
     },
     "execution_count": 163,
     "metadata": {},
     "output_type": "execute_result"
    },
    {
     "data": {
      "image/png": "[encoded data removed]",
      "text/plain": [
       "<Figure size 432x288 with 1 Axes>"
      ]
     },
     "metadata": {
      "needs_background": "light"
     },
     "output_type": "display_data"
    }
   ],
   "source": [
    "plt.imshow(image, cmap='gray')"
   ]
  },
  {
   "cell_type": "markdown",
   "metadata": {},
   "source": [
    "image.reshape turns (width, height) into (batch, width, height, channel)"
   ]
  },
  {
   "cell_type": "code",
   "execution_count": 139,
   "metadata": {},
   "outputs": [],
   "source": [
    "from PIL import Image"
   ]
  },
  {
   "cell_type": "code",
   "execution_count": 140,
   "metadata": {},
   "outputs": [],
   "source": [
    "pil_image = Image.open('image.png')"
   ]
  },
  {
   "cell_type": "code",
   "execution_count": 160,
   "metadata": {},
   "outputs": [],
   "source": [
    "pil_image = pil_image.resize((512, 512))"
   ]
  },
  {
   "cell_type": "code",
   "execution_count": 161,
   "metadata": {},
   "outputs": [],
   "source": [
    "image = np.array(pil_image)[:,:,0]"
   ]
  },
  {
   "cell_type": "code",
   "execution_count": 162,
   "metadata": {},
   "outputs": [],
   "source": [
    "img = image.reshape(1,*image.shape,1)"
   ]
  },
  {
   "cell_type": "code",
   "execution_count": 164,
   "metadata": {},
   "outputs": [
    {
     "data": {
      "text/plain": [
       "array([[1.0000000e+00, 7.9836757e-25, 0.0000000e+00, 0.0000000e+00,\n",
       "        0.0000000e+00]], dtype=float32)"
      ]
     },
     "execution_count": 164,
     "metadata": {},
     "output_type": "execute_result"
    }
   ],
   "source": [
    "model.predict(img)"
   ]
  },
  {
   "cell_type": "code",
   "execution_count": 165,
   "metadata": {},
   "outputs": [],
   "source": [
    "z_i = z.predict(img)"
   ]
  },
  {
   "cell_type": "code",
   "execution_count": 167,
   "metadata": {},
   "outputs": [],
   "source": [
    "G = np.matmul(z_i.T, z_i)"
   ]
  },
  {
   "cell_type": "code",
   "execution_count": 168,
   "metadata": {},
   "outputs": [
    {
     "data": {
      "text/plain": [
       "array([[    0.   ,     0.   ,     0.   ,     0.   ,     0.   ,     0.   ,\n",
       "            0.   ,     0.   ,     0.   ,     0.   ],\n",
       "       [    0.   , 25680.615,     0.   ,     0.   ,     0.   ,     0.   ,\n",
       "        25533.215, 15307.407,     0.   ,     0.   ],\n",
       "       [    0.   ,     0.   ,     0.   ,     0.   ,     0.   ,     0.   ,\n",
       "            0.   ,     0.   ,     0.   ,     0.   ],\n",
       "       [    0.   ,     0.   ,     0.   ,     0.   ,     0.   ,     0.   ,\n",
       "            0.   ,     0.   ,     0.   ,     0.   ],\n",
       "       [    0.   ,     0.   ,     0.   ,     0.   ,     0.   ,     0.   ,\n",
       "            0.   ,     0.   ,     0.   ,     0.   ],\n",
       "       [    0.   ,     0.   ,     0.   ,     0.   ,     0.   ,     0.   ,\n",
       "            0.   ,     0.   ,     0.   ,     0.   ],\n",
       "       [    0.   , 25533.215,     0.   ,     0.   ,     0.   ,     0.   ,\n",
       "        25386.662, 15219.547,     0.   ,     0.   ],\n",
       "       [    0.   , 15307.407,     0.   ,     0.   ,     0.   ,     0.   ,\n",
       "        15219.547,  9124.264,     0.   ,     0.   ],\n",
       "       [    0.   ,     0.   ,     0.   ,     0.   ,     0.   ,     0.   ,\n",
       "            0.   ,     0.   ,     0.   ,     0.   ],\n",
       "       [    0.   ,     0.   ,     0.   ,     0.   ,     0.   ,     0.   ,\n",
       "            0.   ,     0.   ,     0.   ,     0.   ]], dtype=float32)"
      ]
     },
     "execution_count": 168,
     "metadata": {},
     "output_type": "execute_result"
    }
   ],
   "source": [
    "G"
   ]
  },
  {
   "cell_type": "code",
   "execution_count": 171,
   "metadata": {},
   "outputs": [
    {
     "data": {
      "text/plain": [
       "60191.54"
      ]
     },
     "execution_count": 171,
     "metadata": {},
     "output_type": "execute_result"
    }
   ],
   "source": [
    "np.max(np.linalg.eig(G)[0])"
   ]
  },
  {
   "cell_type": "code",
   "execution_count": null,
   "metadata": {},
   "outputs": [],
   "source": []
  }
 ],
 "metadata": {
  "kernelspec": {
   "display_name": "Python 3",
   "language": "python",
   "name": "python3"
  },
  "language_info": {
   "codemirror_mode": {
    "name": "ipython",
    "version": 3
   },
   "file_extension": ".py",
   "mimetype": "text/x-python",
   "name": "python",
   "nbconvert_exporter": "python",
   "pygments_lexer": "ipython3",
   "version": "3.6.6"
  }
 },
 "nbformat": 4,
 "nbformat_minor": 2
}
