{
 "cells": [
  {
   "cell_type": "code",
   "execution_count": 13,
   "metadata": {},
   "outputs": [],
   "source": [
    "import cairo\n",
    "import io\n",
    "import numpy as np\n",
    "from IPython.display import display, Image\n",
    "\n",
    "from cairo_jupyter import *\n",
    "from shapes import *\n",
    "class airplane:\n",
    "    def __init__(self):\n",
    "        # mu, sigma = 0, 1 # mean and standard deviation\n",
    "        #Rotation = np.random.normal(mu, sigma, 20)\n",
    "        #Arm = np.random.normal(mu, sigma, 100)\n",
    "        #Scale = np.random.normal(mu, sigma, 100)\n",
    "        #Lleg = np.random.normal(mu, sigma, 100)\n",
    "        #Rleg = np.random.normal(mu, sigma, 100)\n",
    "        self.rotation = np.random.uniform(-20, 20, 5)\n",
    "        self.scale = np.random.uniform(0.5,1,5)\n",
    "        self.wing = np.random.uniform(-0.1,0.1, 5)\n",
    "        self.head = np.random.uniform(-0.02, 0.02, 5)\n",
    "        self.body = np.random.uniform(-0.2, 0.2, 5)\n",
    "    def airplane_shape(self,head, body, wing, **kwargs):\n",
    "        airplane = ShapeGroup({\n",
    "            'root': Transform(translation = (0.5, 0.2), children = ShapeGroup({\n",
    "                'head': Circle(-0.34, 0.3, 0.08+head, fill = (0.8, 0.8, 0)),\n",
    "                'body': Rectangle(-0.3, 0.22, 0.75+body, 0.17, fill = (0, 0, 0.9)),\n",
    "                'upper_wing': Transform(translation = (0.10,-0.1), rotation = 30, children = ShapeGroup({\n",
    "                    'arm': Rectangle(-0.04, 0., 0.13+wing, 0.5, fill = (0, 0, 0.9))\n",
    "                })),\n",
    "\n",
    "                'under_wings': Transform(translation = (-0.14, 0.35), rotation = -30, children = ShapeGroup({\n",
    "                    'arm': Rectangle(-0.025, 0, 0.13+wing, 0.5, fill = (0, 0, 0.9))\n",
    "                })),\n",
    "\n",
    "            }))\n",
    "        })\n",
    "        return airplane\n",
    "    \n",
    "    def draw_airplane(self,Rata = 0, sc = 0.9, head = 0, body = 0, wing = 0):\n",
    "        scale = 512\n",
    "        inv_scale = 1. / scale\n",
    "        size = (scale, scale)\n",
    "        surface = cairo.ImageSurface(cairo.FORMAT_RGB24, *size)\n",
    "        ctx = cairo.Context(surface)\n",
    "        ctx.scale(*size)\n",
    "        a = self.airplane_shape(head, body, wing)\n",
    "        t=Transform(children = a, rotation = Rata, scale = [0.2+sc,sc])\n",
    "        t.draw(ctx)\n",
    "    #     display(surface_to_image(surface))\n",
    "        return surface\n",
    "    def generate_airplane(self):\n",
    "        i = 0\n",
    "        \n",
    "        for h in self.head:\n",
    "            for b in self.body:\n",
    "                for w in self.wing:\n",
    "                    for r in self.rotation:\n",
    "                        for s in self.scale: \n",
    "                            surface = self.draw_airplane(r, s, h, b, w)\n",
    "                            surface.write_to_png('airplane/airplane_{}.png'.format(i))\n",
    "                            i = i+1"
   ]
  },
  {
   "cell_type": "code",
   "execution_count": 14,
   "metadata": {},
   "outputs": [
    {
     "ename": "KeyboardInterrupt",
     "evalue": "",
     "output_type": "error",
     "traceback": [
      "\u001b[0;31m---------------------------------------------------------------------------\u001b[0m",
      "\u001b[0;31mKeyboardInterrupt\u001b[0m                         Traceback (most recent call last)",
      "\u001b[0;32m<ipython-input-14-4a7820bf5d74>\u001b[0m in \u001b[0;36m<module>\u001b[0;34m()\u001b[0m\n\u001b[1;32m      1\u001b[0m \u001b[0mp\u001b[0m \u001b[0;34m=\u001b[0m \u001b[0mairplane\u001b[0m\u001b[0;34m(\u001b[0m\u001b[0;34m)\u001b[0m\u001b[0;34m\u001b[0m\u001b[0;34m\u001b[0m\u001b[0m\n\u001b[0;32m----> 2\u001b[0;31m \u001b[0mp\u001b[0m\u001b[0;34m.\u001b[0m\u001b[0mgenerate_airplane\u001b[0m\u001b[0;34m(\u001b[0m\u001b[0;34m)\u001b[0m\u001b[0;34m\u001b[0m\u001b[0;34m\u001b[0m\u001b[0m\n\u001b[0m",
      "\u001b[0;32m<ipython-input-13-7355215cb64f>\u001b[0m in \u001b[0;36mgenerate_airplane\u001b[0;34m(self)\u001b[0m\n\u001b[1;32m     57\u001b[0m                         \u001b[0;32mfor\u001b[0m \u001b[0ms\u001b[0m \u001b[0;32min\u001b[0m \u001b[0mself\u001b[0m\u001b[0;34m.\u001b[0m\u001b[0mscale\u001b[0m\u001b[0;34m:\u001b[0m\u001b[0;34m\u001b[0m\u001b[0;34m\u001b[0m\u001b[0m\n\u001b[1;32m     58\u001b[0m                             \u001b[0msurface\u001b[0m \u001b[0;34m=\u001b[0m \u001b[0mself\u001b[0m\u001b[0;34m.\u001b[0m\u001b[0mdraw_airplane\u001b[0m\u001b[0;34m(\u001b[0m\u001b[0mr\u001b[0m\u001b[0;34m,\u001b[0m \u001b[0ms\u001b[0m\u001b[0;34m,\u001b[0m \u001b[0mh\u001b[0m\u001b[0;34m,\u001b[0m \u001b[0mb\u001b[0m\u001b[0;34m,\u001b[0m \u001b[0mw\u001b[0m\u001b[0;34m)\u001b[0m\u001b[0;34m\u001b[0m\u001b[0;34m\u001b[0m\u001b[0m\n\u001b[0;32m---> 59\u001b[0;31m                             \u001b[0msurface\u001b[0m\u001b[0;34m.\u001b[0m\u001b[0mwrite_to_png\u001b[0m\u001b[0;34m(\u001b[0m\u001b[0;34m'airplane/airplane_{}.png'\u001b[0m\u001b[0;34m.\u001b[0m\u001b[0mformat\u001b[0m\u001b[0;34m(\u001b[0m\u001b[0mi\u001b[0m\u001b[0;34m)\u001b[0m\u001b[0;34m)\u001b[0m\u001b[0;34m\u001b[0m\u001b[0;34m\u001b[0m\u001b[0m\n\u001b[0m\u001b[1;32m     60\u001b[0m                             \u001b[0mi\u001b[0m \u001b[0;34m=\u001b[0m \u001b[0mi\u001b[0m\u001b[0;34m+\u001b[0m\u001b[0;36m1\u001b[0m\u001b[0;34m\u001b[0m\u001b[0;34m\u001b[0m\u001b[0m\n",
      "\u001b[0;31mKeyboardInterrupt\u001b[0m: "
     ]
    }
   ],
   "source": [
    "p = airplane()\n",
    "p.generate_airplane()"
   ]
  },
  {
   "cell_type": "code",
   "execution_count": null,
   "metadata": {},
   "outputs": [],
   "source": []
  },
  {
   "cell_type": "code",
   "execution_count": null,
   "metadata": {},
   "outputs": [],
   "source": []
  },
  {
   "cell_type": "code",
   "execution_count": null,
   "metadata": {},
   "outputs": [],
   "source": []
  },
  {
   "cell_type": "code",
   "execution_count": null,
   "metadata": {},
   "outputs": [],
   "source": []
  },
  {
   "cell_type": "code",
   "execution_count": null,
   "metadata": {},
   "outputs": [],
   "source": []
  },
  {
   "cell_type": "code",
   "execution_count": null,
   "metadata": {},
   "outputs": [],
   "source": []
  },
  {
   "cell_type": "code",
   "execution_count": null,
   "metadata": {},
   "outputs": [],
   "source": []
  }
 ],
 "metadata": {
  "kernelspec": {
   "display_name": "Python 3",
   "language": "python",
   "name": "python3"
  },
  "language_info": {
   "codemirror_mode": {
    "name": "ipython",
    "version": 3
   },
   "file_extension": ".py",
   "mimetype": "text/x-python",
   "name": "python",
   "nbconvert_exporter": "python",
   "pygments_lexer": "ipython3",
   "version": "3.6.7"
  }
 },
 "nbformat": 4,
 "nbformat_minor": 2
}
