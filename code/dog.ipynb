{
 "cells": [
  {
   "cell_type": "code",
   "execution_count": 1,
   "metadata": {},
   "outputs": [],
   "source": [
    "import cairo\n",
    "import io\n",
    "import numpy as np\n",
    "from IPython.display import display, Image\n",
    "\n",
    "from cairo_jupyter import *\n",
    "from shapes import *\n",
    "\n",
    "class dog:\n",
    "    def __init__(self):\n",
    "        self.rotation = np.random.uniform(-20, 20, 5)\n",
    "        self.tail = np.random.uniform(-20, 100, 5)\n",
    "        self.scale = np.random.uniform(0.5, 1, 5)\n",
    "        self.leg1 = np.random.uniform(0, 50, 5)\n",
    "        self.leg2 = np.random.uniform(0, 50, 5)\n",
    "    def dog_shape(self, tail, leg1, leg2, **kwargs):\n",
    "        dog = ShapeGroup({\n",
    "            'root': Transform(translation = (0.5, 0.2), children = ShapeGroup({\n",
    "                'head': Circle(-0.24, 0.21, 0.07, fill = (0.8, 0, 0)),\n",
    "                'mouth': Transform(translation = (-0.03, 0.52), rotation = 90, children = ShapeGroup({\n",
    "                    'mouth': Circle(-0.26, 0.27, 0.037, fill = (0.8, 0, 0))\n",
    "                })),\n",
    "                'body': Rectangle(-0.2, 0.27, 0.35, 0.15, fill = (0, 0, 0.9)),\n",
    "                'tail': Transform(translation = (0.17, 0.30), rotation = 135+tail, children = ShapeGroup({\n",
    "                    'tail': Rectangle(-0.025, 0, 0.06, 0.25, fill = (0, 0.0, 0.9))\n",
    "                })), \n",
    "                'front_leg1': Transform(translation = (-0.15, 0.42), rotation = 30+leg1, children = ShapeGroup({\n",
    "                    'leg': Rectangle(-0.025, 0, 0.05, 0.2, fill = (0.8, 0.8, 0))\n",
    "                })),\n",
    "                'front_leg2': Transform(translation = (-0.15, 0.42), rotation = -10-leg2, children = ShapeGroup({\n",
    "                    'leg': Rectangle(-0.025, 0, 0.05, 0.2, fill = (0.8, 0.8, 0))\n",
    "                })),\n",
    "                'back_leg1': Transform(translation = (0.1, 0.42), rotation = 30+leg1, children = ShapeGroup({\n",
    "                    'leg': Rectangle(-0.025, 0, 0.05, 0.2, fill = (0.8, 0.8, 0))\n",
    "                })),\n",
    "                'back_leg2': Transform(translation = (0.1, 0.42), rotation = -10-leg2, children = ShapeGroup({\n",
    "                    'leg': Rectangle(-0.025, 0, 0.05, 0.2, fill = (0.8, 0.8, 0))\n",
    "                })),\n",
    "            }))\n",
    "        })\n",
    "        return dog\n",
    "    \n",
    "    def draw_dog(self, Rata = 0, sc = 1, tail = 0, leg1 = 0, leg2 = 0):\n",
    "        scale = 512\n",
    "        inv_scale = 1. / scale\n",
    "        size = (scale, scale)\n",
    "        surface = cairo.ImageSurface(cairo.FORMAT_RGB24, *size)\n",
    "        ctx = cairo.Context(surface)\n",
    "        ctx.scale(*size)\n",
    "        d = self.dog_shape(tail, leg1, leg2)\n",
    "        t=Transform(children = d, rotation = Rata, scale = [sc,sc])\n",
    "        t.draw(ctx)\n",
    "#         display(surface_to_image(surface))\n",
    "        return surface\n",
    "    def generate_dog(self):\n",
    "        i = 0\n",
    "        for t in self.tail:\n",
    "            for l1 in self.leg1:\n",
    "                for l2 in self.leg2:\n",
    "                     for r in self.rotation:\n",
    "                        for s in self.scale: \n",
    "                            surface = self.draw_dog(r, s, t, l1, l2)\n",
    "                            surface.write_to_png('dog/dog_{}.png'.format(i))\n",
    "                            i = i+1\n"
   ]
  },
  {
   "cell_type": "code",
   "execution_count": null,
   "metadata": {},
   "outputs": [],
   "source": []
  },
  {
   "cell_type": "code",
   "execution_count": 2,
   "metadata": {},
   "outputs": [],
   "source": [
    "d = dog()\n",
    "d.generate_dog()"
   ]
  },
  {
   "cell_type": "code",
   "execution_count": null,
   "metadata": {},
   "outputs": [],
   "source": []
  },
  {
   "cell_type": "code",
   "execution_count": null,
   "metadata": {},
   "outputs": [],
   "source": []
  },
  {
   "cell_type": "code",
   "execution_count": null,
   "metadata": {},
   "outputs": [],
   "source": []
  },
  {
   "cell_type": "code",
   "execution_count": null,
   "metadata": {},
   "outputs": [],
   "source": []
  },
  {
   "cell_type": "code",
   "execution_count": null,
   "metadata": {},
   "outputs": [],
   "source": []
  },
  {
   "cell_type": "code",
   "execution_count": null,
   "metadata": {},
   "outputs": [],
   "source": []
  },
  {
   "cell_type": "code",
   "execution_count": null,
   "metadata": {},
   "outputs": [],
   "source": []
  }
 ],
 "metadata": {
  "kernelspec": {
   "display_name": "Python 3",
   "language": "python",
   "name": "python3"
  },
  "language_info": {
   "codemirror_mode": {
    "name": "ipython",
    "version": 3
   },
   "file_extension": ".py",
   "mimetype": "text/x-python",
   "name": "python",
   "nbconvert_exporter": "python",
   "pygments_lexer": "ipython3",
   "version": "3.6.7"
  }
 },
 "nbformat": 4,
 "nbformat_minor": 2
}
