{
 "cells": [
  {
   "cell_type": "code",
   "execution_count": 1,
   "metadata": {},
   "outputs": [],
   "source": [
    "import cairo\n",
    "import io\n",
    "import numpy as np\n",
    "from IPython.display import display, Image\n",
    "\n",
    "from cairo_jupyter import *\n",
    "from shapes import *\n",
    "class truck:\n",
    "    def __init__(self):\n",
    "        # mu, sigma = 0, 1 # mean and standard deviation\n",
    "        #Rotation = np.random.normal(mu, sigma, 20)\n",
    "        #Arm = np.random.normal(mu, sigma, 100)\n",
    "        #Scale = np.random.normal(mu, sigma, 100)\n",
    "        #Lleg = np.random.normal(mu, sigma, 100)\n",
    "        #Rleg = np.random.normal(mu, sigma, 100)\n",
    "        self.rotation = np.random.uniform(-20, 20, 5)\n",
    "        self.scale = np.random.uniform(0.5,1,5)\n",
    "        self.head = np.random.uniform(-0.2, 0.2, 5)\n",
    "        self.body = np.random.uniform(-0.2, 0.2, 5)\n",
    "        self.wheel = np.random.uniform(-0.02,0.02, 5)\n",
    "\n",
    "    def truck_shape(self,head, body, wheel, **kwargs):\n",
    "        truck = ShapeGroup({\n",
    "            'root': Transform(translation = (0.5, 0.2), children = ShapeGroup({\n",
    "            'head1': Rectangle(-0.3, 0.17, 0.1, 0.2, fill = (0, 0, 0.9)),\n",
    "            'head2': Rectangle(-0.2, 0.1, 0.25+head, 0.2, fill = (0, 0, 0.9)),\n",
    "            'body': Rectangle(-0.3, 0.27, 0.7+body, 0.2, fill = (0.8, 0, 0)),\n",
    "            'front_wheels': Circle(-0.15, 0.5, 0.07+wheel, fill = (0.8, 0.8, 0)),\n",
    "            'back_wheels': Circle(0.2, 0.5, 0.07+wheel, fill = (0.8, 0.8, 0)),\n",
    "\n",
    "            }))\n",
    "        })\n",
    "        return truck\n",
    "\n",
    "    def draw_truck(self, Rata = 0, sc = 0.9, head = 0, body = 0, wheel = 0):\n",
    "        scale = 512\n",
    "        inv_scale = 1. / scale\n",
    "        size = (scale, scale)\n",
    "        surface = cairo.ImageSurface(cairo.FORMAT_RGB24, *size)\n",
    "        ctx = cairo.Context(surface)\n",
    "        ctx.scale(*size)\n",
    "        tk = self.truck_shape(head, body, wheel)\n",
    "        t=Transform(children = tk, rotation = Rata, scale = [sc,sc])\n",
    "        t.draw(ctx)\n",
    "    #     display(surface_to_image(surface))\n",
    "        return surface\n",
    "\n",
    "    def generate_truck(self):\n",
    "        i = 0\n",
    "        for r in self.rotation:\n",
    "            for h in self.head:\n",
    "                for b in self.body:\n",
    "                    for w in self.wheel:\n",
    "                        for s in self.scale: \n",
    "                            surface = self.draw_truck(r, s, h, b, w)\n",
    "                            surface.write_to_png('truck/truck_{}.png'.format(i))\n",
    "                            i = i+1\n",
    "\n"
   ]
  },
  {
   "cell_type": "code",
   "execution_count": 2,
   "metadata": {},
   "outputs": [],
   "source": [
    "t = truck()\n",
    "t.generate_truck()"
   ]
  },
  {
   "cell_type": "code",
   "execution_count": null,
   "metadata": {},
   "outputs": [],
   "source": []
  }
 ],
 "metadata": {
  "kernelspec": {
   "display_name": "Python 3",
   "language": "python",
   "name": "python3"
  },
  "language_info": {
   "codemirror_mode": {
    "name": "ipython",
    "version": 3
   },
   "file_extension": ".py",
   "mimetype": "text/x-python",
   "name": "python",
   "nbconvert_exporter": "python",
   "pygments_lexer": "ipython3",
   "version": "3.6.7"
  }
 },
 "nbformat": 4,
 "nbformat_minor": 2
}
