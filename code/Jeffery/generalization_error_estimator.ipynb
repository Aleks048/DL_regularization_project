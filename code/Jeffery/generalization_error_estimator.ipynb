{
 "cells": [
  {
   "cell_type": "code",
   "execution_count": 2,
   "metadata": {},
   "outputs": [],
   "source": [
    "import tensorflow as tf\n",
    "import tensorflow.keras as keras\n",
    "import tensorflow.keras.models as KM\n",
    "import tensorflow.keras.layers as KL\n",
    "import tensorflow.keras.backend as K\n",
    "import numpy as np"
   ]
  },
  {
   "cell_type": "code",
   "execution_count": 3,
   "metadata": {},
   "outputs": [],
   "source": [
    "def estimate_generalization_error(model, train, validation):\n",
    "    pass"
   ]
  },
  {
   "cell_type": "code",
   "execution_count": 4,
   "metadata": {},
   "outputs": [],
   "source": [
    "def estimate_G(model, train, validation):\n",
    "    pass"
   ]
  },
  {
   "cell_type": "code",
   "execution_count": 5,
   "metadata": {},
   "outputs": [],
   "source": [
    "def estimate_v(model, train, validation):\n",
    "    pass"
   ]
  },
  {
   "cell_type": "code",
   "execution_count": 6,
   "metadata": {},
   "outputs": [],
   "source": [
    "def compute_norm_w(model):\n",
    "    pass"
   ]
  },
  {
   "cell_type": "code",
   "execution_count": 46,
   "metadata": {},
   "outputs": [],
   "source": [
    "def cnn_model(input_shape = (512, 512, 3, ), layers = [16, 32, 64, 64, 64], n_classes = 5):\n",
    "    input = KL.Input(shape=input_shape)\n",
    "    x = input\n",
    "    \n",
    "    for i, layer in enumerate(layers):\n",
    "        x = KL.SeparableConv2D(layer, 3, activation='relu', kernel_initializer=\"he_normal\")(x)\n",
    "        if i < len(layers) - 1:\n",
    "            x = KL.AveragePooling2D(2)(x)\n",
    "        \n",
    "    x = KL.Flatten()(x)\n",
    "    z = KL.Dense(10, activation = 'relu')(x)\n",
    "    output = KL.Dense(5, activation = 'softmax')(z)\n",
    "    \n",
    "    return KM.Model(input, output), KM.Model(input, z)"
   ]
  },
  {
   "cell_type": "code",
   "execution_count": 47,
   "metadata": {},
   "outputs": [],
   "source": [
    "cnn, cnn_z = cnn_model()"
   ]
  },
  {
   "cell_type": "code",
   "execution_count": 48,
   "metadata": {},
   "outputs": [
    {
     "name": "stdout",
     "output_type": "stream",
     "text": [
      "_________________________________________________________________\n",
      "Layer (type)                 Output Shape              Param #   \n",
      "=================================================================\n",
      "input_7 (InputLayer)         (None, 512, 512, 3)       0         \n",
      "_________________________________________________________________\n",
      "separable_conv2d_20 (Separab (None, 510, 510, 16)      91        \n",
      "_________________________________________________________________\n",
      "average_pooling2d (AveragePo (None, 255, 255, 16)      0         \n",
      "_________________________________________________________________\n",
      "separable_conv2d_21 (Separab (None, 253, 253, 32)      688       \n",
      "_________________________________________________________________\n",
      "average_pooling2d_1 (Average (None, 126, 126, 32)      0         \n",
      "_________________________________________________________________\n",
      "separable_conv2d_22 (Separab (None, 124, 124, 64)      2400      \n",
      "_________________________________________________________________\n",
      "average_pooling2d_2 (Average (None, 62, 62, 64)        0         \n",
      "_________________________________________________________________\n",
      "separable_conv2d_23 (Separab (None, 60, 60, 64)        4736      \n",
      "_________________________________________________________________\n",
      "average_pooling2d_3 (Average (None, 30, 30, 64)        0         \n",
      "_________________________________________________________________\n",
      "separable_conv2d_24 (Separab (None, 28, 28, 64)        4736      \n",
      "_________________________________________________________________\n",
      "flatten_6 (Flatten)          (None, 50176)             0         \n",
      "_________________________________________________________________\n",
      "dense_11 (Dense)             (None, 10)                501770    \n",
      "_________________________________________________________________\n",
      "dense_12 (Dense)             (None, 5)                 55        \n",
      "=================================================================\n",
      "Total params: 514,476\n",
      "Trainable params: 514,476\n",
      "Non-trainable params: 0\n",
      "_________________________________________________________________\n"
     ]
    }
   ],
   "source": [
    "cnn.summary()"
   ]
  },
  {
   "cell_type": "code",
   "execution_count": 42,
   "metadata": {},
   "outputs": [
    {
     "data": {
      "text/plain": [
       "(3, 3, 3, 16)"
      ]
     },
     "execution_count": 42,
     "metadata": {},
     "output_type": "execute_result"
    }
   ],
   "source": [
    "cnn.layers[1].get_weights()[0].shape"
   ]
  },
  {
   "cell_type": "code",
   "execution_count": 7,
   "metadata": {},
   "outputs": [],
   "source": [
    "def demo_model():\n",
    "    input = KL.Input(shape=(512, 512, 1, ))\n",
    "    \n",
    "    x = KL.Lambda(lambda image: tf.image.resize_images(image, (128, 128)))(input)\n",
    "    x = KL.Flatten()(x)\n",
    "    x = KL.Dense(10, activation='relu', use_bias=False)(x)\n",
    "    z = KL.Dense(10, activation='relu', use_bias=False)(x)\n",
    "    \n",
    "    output = KL.Dense(5, activation='softmax', use_bias=False)(z)\n",
    "    \n",
    "    return KM.Model(input, output), KM.Model(input, z)"
   ]
  },
  {
   "cell_type": "code",
   "execution_count": 8,
   "metadata": {},
   "outputs": [],
   "source": [
    "model, z = demo_model()"
   ]
  },
  {
   "cell_type": "code",
   "execution_count": 9,
   "metadata": {},
   "outputs": [
    {
     "name": "stdout",
     "output_type": "stream",
     "text": [
      "_________________________________________________________________\n",
      "Layer (type)                 Output Shape              Param #   \n",
      "=================================================================\n",
      "input_1 (InputLayer)         (None, 512, 512, 1)       0         \n",
      "_________________________________________________________________\n",
      "lambda (Lambda)              (None, 128, 128, 1)       0         \n",
      "_________________________________________________________________\n",
      "flatten (Flatten)            (None, 16384)             0         \n",
      "_________________________________________________________________\n",
      "dense (Dense)                (None, 10)                163840    \n",
      "_________________________________________________________________\n",
      "dense_1 (Dense)              (None, 10)                100       \n",
      "_________________________________________________________________\n",
      "dense_2 (Dense)              (None, 5)                 50        \n",
      "=================================================================\n",
      "Total params: 163,990\n",
      "Trainable params: 163,990\n",
      "Non-trainable params: 0\n",
      "_________________________________________________________________\n"
     ]
    }
   ],
   "source": [
    "model.summary()"
   ]
  },
  {
   "cell_type": "code",
   "execution_count": 12,
   "metadata": {},
   "outputs": [],
   "source": [
    "W = None\n",
    "for layer in model.layers:\n",
    "    weights = layer.get_weights()\n",
    "    if len(weights) == 0:\n",
    "        continue\n",
    "    w_i = weights[0]\n",
    "    if W is None:\n",
    "        W = w_i\n",
    "    else:\n",
    "        W = np.matmul(W, w_i)"
   ]
  },
  {
   "cell_type": "code",
   "execution_count": 13,
   "metadata": {},
   "outputs": [
    {
     "data": {
      "text/plain": [
       "(16384, 5)"
      ]
     },
     "execution_count": 13,
     "metadata": {},
     "output_type": "execute_result"
    }
   ],
   "source": [
    "W.shape"
   ]
  },
  {
   "cell_type": "code",
   "execution_count": 14,
   "metadata": {},
   "outputs": [
    {
     "data": {
      "text/plain": [
       "1.9350959"
      ]
     },
     "execution_count": 14,
     "metadata": {},
     "output_type": "execute_result"
    }
   ],
   "source": [
    "np.linalg.norm(W[:,0], ord=2)"
   ]
  },
  {
   "cell_type": "code",
   "execution_count": 15,
   "metadata": {},
   "outputs": [],
   "source": [
    "import matplotlib.pyplot as plt\n",
    "%matplotlib inline"
   ]
  },
  {
   "cell_type": "markdown",
   "metadata": {},
   "source": [
    "image.reshape turns (width, height) into (batch, width, height, channel)"
   ]
  },
  {
   "cell_type": "raw",
   "metadata": {},
   "source": [
    "from PIL import Image"
   ]
  },
  {
   "cell_type": "raw",
   "metadata": {},
   "source": [
    "pil_image = Image.open('image.png')"
   ]
  },
  {
   "cell_type": "raw",
   "metadata": {},
   "source": [
    "pil_image = pil_image.resize((512, 512))"
   ]
  },
  {
   "cell_type": "raw",
   "metadata": {},
   "source": [
    "image = np.array(pil_image)[:,:,0]"
   ]
  },
  {
   "cell_type": "raw",
   "metadata": {},
   "source": [
    "img = image.reshape(1,*image.shape,1)"
   ]
  },
  {
   "cell_type": "code",
   "execution_count": 18,
   "metadata": {},
   "outputs": [],
   "source": [
    "img = np.random.rand(1,512,512,1)"
   ]
  },
  {
   "cell_type": "code",
   "execution_count": 19,
   "metadata": {},
   "outputs": [
    {
     "data": {
      "text/plain": [
       "array([[0.14574671, 0.14376056, 0.2748396 , 0.19105217, 0.24460094]],\n",
       "      dtype=float32)"
      ]
     },
     "execution_count": 19,
     "metadata": {},
     "output_type": "execute_result"
    }
   ],
   "source": [
    "model.predict(img)"
   ]
  },
  {
   "cell_type": "code",
   "execution_count": 20,
   "metadata": {},
   "outputs": [],
   "source": [
    "z_i = z.predict(img)"
   ]
  },
  {
   "cell_type": "code",
   "execution_count": 21,
   "metadata": {},
   "outputs": [],
   "source": [
    "G = np.matmul(z_i.T, z_i)"
   ]
  },
  {
   "cell_type": "code",
   "execution_count": 22,
   "metadata": {},
   "outputs": [
    {
     "data": {
      "text/plain": [
       "array([[0.        , 0.        , 0.        , 0.        , 0.        ,\n",
       "        0.        , 0.        , 0.        , 0.        , 0.        ],\n",
       "       [0.        , 0.075531  , 0.03191868, 0.14682122, 0.        ,\n",
       "        0.        , 0.1140682 , 0.22865663, 0.01541052, 0.        ],\n",
       "       [0.        , 0.03191868, 0.01348853, 0.06204526, 0.        ,\n",
       "        0.        , 0.04820414, 0.09662812, 0.00651234, 0.        ],\n",
       "       [0.        , 0.14682122, 0.06204526, 0.28539902, 0.        ,\n",
       "        0.        , 0.22173192, 0.44447508, 0.0299558 , 0.        ],\n",
       "       [0.        , 0.        , 0.        , 0.        , 0.        ,\n",
       "        0.        , 0.        , 0.        , 0.        , 0.        ],\n",
       "       [0.        , 0.        , 0.        , 0.        , 0.        ,\n",
       "        0.        , 0.        , 0.        , 0.        , 0.        ],\n",
       "       [0.        , 0.1140682 , 0.04820414, 0.22173192, 0.        ,\n",
       "        0.        , 0.17226774, 0.34532115, 0.02327323, 0.        ],\n",
       "       [0.        , 0.22865663, 0.09662812, 0.44447508, 0.        ,\n",
       "        0.        , 0.34532115, 0.6922172 , 0.0466526 , 0.        ],\n",
       "       [0.        , 0.01541052, 0.00651234, 0.0299558 , 0.        ,\n",
       "        0.        , 0.02327323, 0.0466526 , 0.00314419, 0.        ],\n",
       "       [0.        , 0.        , 0.        , 0.        , 0.        ,\n",
       "        0.        , 0.        , 0.        , 0.        , 0.        ]],\n",
       "      dtype=float32)"
      ]
     },
     "execution_count": 22,
     "metadata": {},
     "output_type": "execute_result"
    }
   ],
   "source": [
    "G"
   ]
  },
  {
   "cell_type": "code",
   "execution_count": 23,
   "metadata": {},
   "outputs": [
    {
     "data": {
      "text/plain": [
       "1.2420477"
      ]
     },
     "execution_count": 23,
     "metadata": {},
     "output_type": "execute_result"
    }
   ],
   "source": [
    "np.max(np.linalg.eig(G)[0])"
   ]
  },
  {
   "cell_type": "code",
   "execution_count": null,
   "metadata": {},
   "outputs": [],
   "source": []
  }
 ],
 "metadata": {
  "kernelspec": {
   "display_name": "Python 3",
   "language": "python",
   "name": "python3"
  },
  "language_info": {
   "codemirror_mode": {
    "name": "ipython",
    "version": 3
   },
   "file_extension": ".py",
   "mimetype": "text/x-python",
   "name": "python",
   "nbconvert_exporter": "python",
   "pygments_lexer": "ipython3",
   "version": "3.6.6"
  }
 },
 "nbformat": 4,
 "nbformat_minor": 2
}
