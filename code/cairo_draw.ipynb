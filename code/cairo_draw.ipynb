{
 "cells": [
  {
   "cell_type": "code",
   "execution_count": 5,
   "metadata": {},
   "outputs": [],
   "source": [
    "import cairo\n",
    "import io\n",
    "import numpy as np\n",
    "from IPython.display import display, Image"
   ]
  },
  {
   "cell_type": "code",
   "execution_count": 6,
   "metadata": {},
   "outputs": [],
   "source": [
    "from cairo_jupyter import *\n",
    "from shapes import *"
   ]
  },
  {
   "cell_type": "code",
   "execution_count": 7,
   "metadata": {},
   "outputs": [
    {
     "data": {
      "image/png": "[encoded data removed]",
      "text/plain": [
       "<IPython.core.display.Image object>"
      ]
     },
     "metadata": {},
     "output_type": "display_data"
    }
   ],
   "source": [
    "person = ShapeGroup({\n",
    "    'root': Transform(translation = (0.5, 0.2), children = ShapeGroup({\n",
    "        'head': Circle(0, 0, 0.1, fill = (0.8, 0, 0)),\n",
    "        'body': Rectangle(-0.05, 0.1, 0.1, 0.4, fill = (0, 0, 0.9)),\n",
    "        'left_arm': Transform(translation = (-0.05, 0.15), rotation = 135, children = ShapeGroup({\n",
    "            'arm': Rectangle(-0.025, 0, 0.05, 0.3, fill = (0, 0.8, 0))\n",
    "        })),\n",
    "        'right_arm': Transform(translation = (0.05, 0.15), rotation = -135, children = ShapeGroup({\n",
    "            'arm': Rectangle(-0.025, 0, 0.05, 0.3, fill = (0.8, 0.8, 0))\n",
    "        })),\n",
    "        'left_leg': Transform(translation = (-0.05, 0.5), rotation = 30, children = ShapeGroup({\n",
    "            'leg': Rectangle(-0.025, 0, 0.05, 0.3, fill = (0, 0.8, 0))\n",
    "        })),\n",
    "        'right_left': Transform(translation = (0.05, 0.5), rotation = -30, children = ShapeGroup({\n",
    "            'arm': Rectangle(-0.025, 0, 0.05, 0.3, fill = (0.8, 0.8, 0))\n",
    "        })),\n",
    "    }))\n",
    "})\n",
    "\n",
    "def draw_person():\n",
    "    scale = 512\n",
    "    inv_scale = 1. / scale\n",
    "    size = (scale, scale)\n",
    "    surface = cairo.ImageSurface(cairo.FORMAT_RGB24, *size)\n",
    "    ctx = cairo.Context(surface)\n",
    "    ctx.scale(*size)\n",
    "    \n",
    "    person.draw(ctx)\n",
    "\n",
    "    display(surface_to_image(surface))\n",
    "    return surface\n",
    "    \n",
    "surface = draw_person()"
   ]
  },
  {
   "cell_type": "code",
   "execution_count": 42,
   "metadata": {},
   "outputs": [],
   "source": [
    "surface.write_to_png('test.png')"
   ]
  },
  {
   "cell_type": "code",
   "execution_count": null,
   "metadata": {},
   "outputs": [],
   "source": []
  }
 ],
 "metadata": {
  "kernelspec": {
   "display_name": "Python 3",
   "language": "python",
   "name": "python3"
  },
  "language_info": {
   "codemirror_mode": {
    "name": "ipython",
    "version": 3
   },
   "file_extension": ".py",
   "mimetype": "text/x-python",
   "name": "python",
   "nbconvert_exporter": "python",
   "pygments_lexer": "ipython3",
   "version": "3.6.7"
  }
 },
 "nbformat": 4,
 "nbformat_minor": 2
}
